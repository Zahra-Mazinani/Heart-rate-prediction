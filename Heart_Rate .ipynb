{
  "cells": [
    {
      "cell_type": "markdown",
      "metadata": {
        "id": "16yPzGogbXNt"
      },
      "source": [
        "*in the name of Allah*"
      ]
    },
    {
      "cell_type": "markdown",
      "metadata": {
        "id": "BtBTyf5vnAeF"
      },
      "source": [
        "this code model contains LSTM model"
      ]
    },
    {
      "cell_type": "code",
      "execution_count": null,
      "metadata": {
        "id": "coZskGgpd3sP"
      },
      "outputs": [],
      "source": [
        "import numpy as np\n",
        "import pandas as pd\n",
        "import time\n",
        "import math\n",
        "import matplotlib.pyplot as plt\n",
        "from statsmodels.tsa.stattools import adfuller\n",
        "from sklearn.preprocessing import MinMaxScaler\n",
        "\n",
        "# For LSTM model\n",
        "from keras.metrics import RootMeanSquaredError\n",
        "from keras.metrics import mean_squared_error\n",
        "from keras.models import Sequential\n",
        "from keras.models import load_model\n",
        "from keras.layers import (SimpleRNN, Dense, LSTM, GRU, Flatten, Dropout, Bidirectional)\n",
        "\n",
        "!pip install keras-tuner --upgrade\n",
        "import keras_tuner as kt"
      ]
    },
    {
      "cell_type": "markdown",
      "metadata": {
        "id": "TJu0AlrNbbLl"
      },
      "source": [
        "#Preprocessing(statistical tests)\n",
        "https://machinelearningmastery.com/time-series-data-stationary-python/\n",
        "\n",
        "https://www.machinelearningplus.com/time-series/augmented-dickey-fuller-test/"
      ]
    },
    {
      "cell_type": "code",
      "execution_count": 3,
      "metadata": {
        "id": "BoAeasaseWfy"
      },
      "outputs": [],
      "source": [
        "df = pd.read_csv(\"/content/heart-rate-time-series.csv\",header=None)"
      ]
    },
    {
      "cell_type": "code",
      "execution_count": 4,
      "metadata": {
        "colab": {
          "base_uri": "https://localhost:8080/",
          "height": 206
        },
        "id": "1Z78ro9eXG7b",
        "outputId": "44cd7b3d-75bc-4b9a-fa5a-40bf2cfd9e14"
      },
      "outputs": [
        {
          "output_type": "execute_result",
          "data": {
            "text/plain": [
              "         0\n",
              "0  91.4634\n",
              "1  91.4634\n",
              "2  91.1834\n",
              "3  91.8788\n",
              "4  91.1772"
            ],
            "text/html": [
              "\n",
              "  <div id=\"df-6cf63f5a-a07a-4b49-8f7f-6b22d07a1231\">\n",
              "    <div class=\"colab-df-container\">\n",
              "      <div>\n",
              "<style scoped>\n",
              "    .dataframe tbody tr th:only-of-type {\n",
              "        vertical-align: middle;\n",
              "    }\n",
              "\n",
              "    .dataframe tbody tr th {\n",
              "        vertical-align: top;\n",
              "    }\n",
              "\n",
              "    .dataframe thead th {\n",
              "        text-align: right;\n",
              "    }\n",
              "</style>\n",
              "<table border=\"1\" class=\"dataframe\">\n",
              "  <thead>\n",
              "    <tr style=\"text-align: right;\">\n",
              "      <th></th>\n",
              "      <th>0</th>\n",
              "    </tr>\n",
              "  </thead>\n",
              "  <tbody>\n",
              "    <tr>\n",
              "      <th>0</th>\n",
              "      <td>91.4634</td>\n",
              "    </tr>\n",
              "    <tr>\n",
              "      <th>1</th>\n",
              "      <td>91.4634</td>\n",
              "    </tr>\n",
              "    <tr>\n",
              "      <th>2</th>\n",
              "      <td>91.1834</td>\n",
              "    </tr>\n",
              "    <tr>\n",
              "      <th>3</th>\n",
              "      <td>91.8788</td>\n",
              "    </tr>\n",
              "    <tr>\n",
              "      <th>4</th>\n",
              "      <td>91.1772</td>\n",
              "    </tr>\n",
              "  </tbody>\n",
              "</table>\n",
              "</div>\n",
              "      <button class=\"colab-df-convert\" onclick=\"convertToInteractive('df-6cf63f5a-a07a-4b49-8f7f-6b22d07a1231')\"\n",
              "              title=\"Convert this dataframe to an interactive table.\"\n",
              "              style=\"display:none;\">\n",
              "        \n",
              "  <svg xmlns=\"http://www.w3.org/2000/svg\" height=\"24px\"viewBox=\"0 0 24 24\"\n",
              "       width=\"24px\">\n",
              "    <path d=\"M0 0h24v24H0V0z\" fill=\"none\"/>\n",
              "    <path d=\"M18.56 5.44l.94 2.06.94-2.06 2.06-.94-2.06-.94-.94-2.06-.94 2.06-2.06.94zm-11 1L8.5 8.5l.94-2.06 2.06-.94-2.06-.94L8.5 2.5l-.94 2.06-2.06.94zm10 10l.94 2.06.94-2.06 2.06-.94-2.06-.94-.94-2.06-.94 2.06-2.06.94z\"/><path d=\"M17.41 7.96l-1.37-1.37c-.4-.4-.92-.59-1.43-.59-.52 0-1.04.2-1.43.59L10.3 9.45l-7.72 7.72c-.78.78-.78 2.05 0 2.83L4 21.41c.39.39.9.59 1.41.59.51 0 1.02-.2 1.41-.59l7.78-7.78 2.81-2.81c.8-.78.8-2.07 0-2.86zM5.41 20L4 18.59l7.72-7.72 1.47 1.35L5.41 20z\"/>\n",
              "  </svg>\n",
              "      </button>\n",
              "      \n",
              "  <style>\n",
              "    .colab-df-container {\n",
              "      display:flex;\n",
              "      flex-wrap:wrap;\n",
              "      gap: 12px;\n",
              "    }\n",
              "\n",
              "    .colab-df-convert {\n",
              "      background-color: #E8F0FE;\n",
              "      border: none;\n",
              "      border-radius: 50%;\n",
              "      cursor: pointer;\n",
              "      display: none;\n",
              "      fill: #1967D2;\n",
              "      height: 32px;\n",
              "      padding: 0 0 0 0;\n",
              "      width: 32px;\n",
              "    }\n",
              "\n",
              "    .colab-df-convert:hover {\n",
              "      background-color: #E2EBFA;\n",
              "      box-shadow: 0px 1px 2px rgba(60, 64, 67, 0.3), 0px 1px 3px 1px rgba(60, 64, 67, 0.15);\n",
              "      fill: #174EA6;\n",
              "    }\n",
              "\n",
              "    [theme=dark] .colab-df-convert {\n",
              "      background-color: #3B4455;\n",
              "      fill: #D2E3FC;\n",
              "    }\n",
              "\n",
              "    [theme=dark] .colab-df-convert:hover {\n",
              "      background-color: #434B5C;\n",
              "      box-shadow: 0px 1px 3px 1px rgba(0, 0, 0, 0.15);\n",
              "      filter: drop-shadow(0px 1px 2px rgba(0, 0, 0, 0.3));\n",
              "      fill: #FFFFFF;\n",
              "    }\n",
              "  </style>\n",
              "\n",
              "      <script>\n",
              "        const buttonEl =\n",
              "          document.querySelector('#df-6cf63f5a-a07a-4b49-8f7f-6b22d07a1231 button.colab-df-convert');\n",
              "        buttonEl.style.display =\n",
              "          google.colab.kernel.accessAllowed ? 'block' : 'none';\n",
              "\n",
              "        async function convertToInteractive(key) {\n",
              "          const element = document.querySelector('#df-6cf63f5a-a07a-4b49-8f7f-6b22d07a1231');\n",
              "          const dataTable =\n",
              "            await google.colab.kernel.invokeFunction('convertToInteractive',\n",
              "                                                     [key], {});\n",
              "          if (!dataTable) return;\n",
              "\n",
              "          const docLinkHtml = 'Like what you see? Visit the ' +\n",
              "            '<a target=\"_blank\" href=https://colab.research.google.com/notebooks/data_table.ipynb>data table notebook</a>'\n",
              "            + ' to learn more about interactive tables.';\n",
              "          element.innerHTML = '';\n",
              "          dataTable['output_type'] = 'display_data';\n",
              "          await google.colab.output.renderOutput(dataTable, element);\n",
              "          const docLink = document.createElement('div');\n",
              "          docLink.innerHTML = docLinkHtml;\n",
              "          element.appendChild(docLink);\n",
              "        }\n",
              "      </script>\n",
              "    </div>\n",
              "  </div>\n",
              "  "
            ]
          },
          "metadata": {},
          "execution_count": 4
        }
      ],
      "source": [
        "df.head()"
      ]
    },
    {
      "cell_type": "code",
      "execution_count": 5,
      "metadata": {
        "colab": {
          "base_uri": "https://localhost:8080/",
          "height": 300
        },
        "id": "w1QyoYjHedQu",
        "outputId": "23ec06f1-d009-4143-84b3-703282a5a548"
      },
      "outputs": [
        {
          "output_type": "execute_result",
          "data": {
            "text/plain": [
              "                 0\n",
              "count  1800.000000\n",
              "mean     96.637474\n",
              "std       5.687179\n",
              "min      80.213900\n",
              "25%      92.418925\n",
              "50%      98.238450\n",
              "75%     101.362750\n",
              "max     104.895000"
            ],
            "text/html": [
              "\n",
              "  <div id=\"df-a7e8b4c0-0c45-4eae-9c3e-21cd17e7f590\">\n",
              "    <div class=\"colab-df-container\">\n",
              "      <div>\n",
              "<style scoped>\n",
              "    .dataframe tbody tr th:only-of-type {\n",
              "        vertical-align: middle;\n",
              "    }\n",
              "\n",
              "    .dataframe tbody tr th {\n",
              "        vertical-align: top;\n",
              "    }\n",
              "\n",
              "    .dataframe thead th {\n",
              "        text-align: right;\n",
              "    }\n",
              "</style>\n",
              "<table border=\"1\" class=\"dataframe\">\n",
              "  <thead>\n",
              "    <tr style=\"text-align: right;\">\n",
              "      <th></th>\n",
              "      <th>0</th>\n",
              "    </tr>\n",
              "  </thead>\n",
              "  <tbody>\n",
              "    <tr>\n",
              "      <th>count</th>\n",
              "      <td>1800.000000</td>\n",
              "    </tr>\n",
              "    <tr>\n",
              "      <th>mean</th>\n",
              "      <td>96.637474</td>\n",
              "    </tr>\n",
              "    <tr>\n",
              "      <th>std</th>\n",
              "      <td>5.687179</td>\n",
              "    </tr>\n",
              "    <tr>\n",
              "      <th>min</th>\n",
              "      <td>80.213900</td>\n",
              "    </tr>\n",
              "    <tr>\n",
              "      <th>25%</th>\n",
              "      <td>92.418925</td>\n",
              "    </tr>\n",
              "    <tr>\n",
              "      <th>50%</th>\n",
              "      <td>98.238450</td>\n",
              "    </tr>\n",
              "    <tr>\n",
              "      <th>75%</th>\n",
              "      <td>101.362750</td>\n",
              "    </tr>\n",
              "    <tr>\n",
              "      <th>max</th>\n",
              "      <td>104.895000</td>\n",
              "    </tr>\n",
              "  </tbody>\n",
              "</table>\n",
              "</div>\n",
              "      <button class=\"colab-df-convert\" onclick=\"convertToInteractive('df-a7e8b4c0-0c45-4eae-9c3e-21cd17e7f590')\"\n",
              "              title=\"Convert this dataframe to an interactive table.\"\n",
              "              style=\"display:none;\">\n",
              "        \n",
              "  <svg xmlns=\"http://www.w3.org/2000/svg\" height=\"24px\"viewBox=\"0 0 24 24\"\n",
              "       width=\"24px\">\n",
              "    <path d=\"M0 0h24v24H0V0z\" fill=\"none\"/>\n",
              "    <path d=\"M18.56 5.44l.94 2.06.94-2.06 2.06-.94-2.06-.94-.94-2.06-.94 2.06-2.06.94zm-11 1L8.5 8.5l.94-2.06 2.06-.94-2.06-.94L8.5 2.5l-.94 2.06-2.06.94zm10 10l.94 2.06.94-2.06 2.06-.94-2.06-.94-.94-2.06-.94 2.06-2.06.94z\"/><path d=\"M17.41 7.96l-1.37-1.37c-.4-.4-.92-.59-1.43-.59-.52 0-1.04.2-1.43.59L10.3 9.45l-7.72 7.72c-.78.78-.78 2.05 0 2.83L4 21.41c.39.39.9.59 1.41.59.51 0 1.02-.2 1.41-.59l7.78-7.78 2.81-2.81c.8-.78.8-2.07 0-2.86zM5.41 20L4 18.59l7.72-7.72 1.47 1.35L5.41 20z\"/>\n",
              "  </svg>\n",
              "      </button>\n",
              "      \n",
              "  <style>\n",
              "    .colab-df-container {\n",
              "      display:flex;\n",
              "      flex-wrap:wrap;\n",
              "      gap: 12px;\n",
              "    }\n",
              "\n",
              "    .colab-df-convert {\n",
              "      background-color: #E8F0FE;\n",
              "      border: none;\n",
              "      border-radius: 50%;\n",
              "      cursor: pointer;\n",
              "      display: none;\n",
              "      fill: #1967D2;\n",
              "      height: 32px;\n",
              "      padding: 0 0 0 0;\n",
              "      width: 32px;\n",
              "    }\n",
              "\n",
              "    .colab-df-convert:hover {\n",
              "      background-color: #E2EBFA;\n",
              "      box-shadow: 0px 1px 2px rgba(60, 64, 67, 0.3), 0px 1px 3px 1px rgba(60, 64, 67, 0.15);\n",
              "      fill: #174EA6;\n",
              "    }\n",
              "\n",
              "    [theme=dark] .colab-df-convert {\n",
              "      background-color: #3B4455;\n",
              "      fill: #D2E3FC;\n",
              "    }\n",
              "\n",
              "    [theme=dark] .colab-df-convert:hover {\n",
              "      background-color: #434B5C;\n",
              "      box-shadow: 0px 1px 3px 1px rgba(0, 0, 0, 0.15);\n",
              "      filter: drop-shadow(0px 1px 2px rgba(0, 0, 0, 0.3));\n",
              "      fill: #FFFFFF;\n",
              "    }\n",
              "  </style>\n",
              "\n",
              "      <script>\n",
              "        const buttonEl =\n",
              "          document.querySelector('#df-a7e8b4c0-0c45-4eae-9c3e-21cd17e7f590 button.colab-df-convert');\n",
              "        buttonEl.style.display =\n",
              "          google.colab.kernel.accessAllowed ? 'block' : 'none';\n",
              "\n",
              "        async function convertToInteractive(key) {\n",
              "          const element = document.querySelector('#df-a7e8b4c0-0c45-4eae-9c3e-21cd17e7f590');\n",
              "          const dataTable =\n",
              "            await google.colab.kernel.invokeFunction('convertToInteractive',\n",
              "                                                     [key], {});\n",
              "          if (!dataTable) return;\n",
              "\n",
              "          const docLinkHtml = 'Like what you see? Visit the ' +\n",
              "            '<a target=\"_blank\" href=https://colab.research.google.com/notebooks/data_table.ipynb>data table notebook</a>'\n",
              "            + ' to learn more about interactive tables.';\n",
              "          element.innerHTML = '';\n",
              "          dataTable['output_type'] = 'display_data';\n",
              "          await google.colab.output.renderOutput(dataTable, element);\n",
              "          const docLink = document.createElement('div');\n",
              "          docLink.innerHTML = docLinkHtml;\n",
              "          element.appendChild(docLink);\n",
              "        }\n",
              "      </script>\n",
              "    </div>\n",
              "  </div>\n",
              "  "
            ]
          },
          "metadata": {},
          "execution_count": 5
        }
      ],
      "source": [
        "df.describe()"
      ]
    },
    {
      "cell_type": "markdown",
      "metadata": {
        "id": "UO4cNERBemqL"
      },
      "source": [
        "plot our data to see if data is stationary or not.\n",
        "histogram plot is neccesery to check if we have normal distribution data or not."
      ]
    },
    {
      "cell_type": "code",
      "execution_count": 6,
      "metadata": {
        "colab": {
          "base_uri": "https://localhost:8080/",
          "height": 584
        },
        "id": "nriHRVYtX1_Z",
        "outputId": "634bed32-bfa9-41fa-9cfd-074f73d26445"
      },
      "outputs": [
        {
          "output_type": "display_data",
          "data": {
            "text/plain": [
              "<Figure size 432x288 with 1 Axes>"
            ],
            "image/png": "[encoded data removed]"
          },
          "metadata": {
            "needs_background": "light"
          }
        },
        {
          "output_type": "display_data",
          "data": {
            "text/plain": [
              "<Figure size 720x360 with 1 Axes>"
            ],
            "image/png": "[encoded data removed]"
          },
          "metadata": {
            "needs_background": "light"
          }
        }
      ],
      "source": [
        "df.hist()\n",
        "plt.show()\n",
        "\n",
        "plt.figure(figsize=(10,5))\n",
        "plt.plot(df)\n",
        "plt.show()"
      ]
    },
    {
      "cell_type": "markdown",
      "metadata": {
        "id": "-pFZA13zeCFh"
      },
      "source": [
        "calculate mean and variance in parts of data, to undrestand that our mean\n",
        "or variance in our data is alike or not.\n",
        "\n",
        "in this data we have the same mean and variance, so it looks stationary.\n",
        "\n"
      ]
    },
    {
      "cell_type": "code",
      "execution_count": 7,
      "metadata": {
        "colab": {
          "base_uri": "https://localhost:8080/"
        },
        "id": "MUCl-bnXaG8j",
        "outputId": "af71bdc5-db8e-44dc-ab02-79efd27df120"
      },
      "outputs": [
        {
          "output_type": "stream",
          "name": "stdout",
          "text": [
            "mean1=96.890504, mean2=96.384444\n",
            "var1=33.904997, var2=30.619018\n"
          ]
        }
      ],
      "source": [
        "x = df.values\n",
        "split = round(len(x)/2)\n",
        "x1, x2 = x[:split], x[split:]\n",
        "mean1, mean2 = x1.mean(), x2.mean()\n",
        "var1, var2 = x1.var(), x2.var()\n",
        "print(\"mean1=%f, mean2=%f\" % (mean1,mean2))\n",
        "print(\"var1=%f, var2=%f\" % (var1,var2))"
      ]
    },
    {
      "cell_type": "code",
      "execution_count": 8,
      "metadata": {
        "colab": {
          "base_uri": "https://localhost:8080/",
          "height": 602
        },
        "id": "jc-BLgteb7ir",
        "outputId": "d70a5bb5-6b57-4eff-abb4-7ebb78373128"
      },
      "outputs": [
        {
          "output_type": "display_data",
          "data": {
            "text/plain": [
              "<Figure size 432x288 with 1 Axes>"
            ],
            "image/png": "[encoded data removed]"
          },
          "metadata": {
            "needs_background": "light"
          }
        },
        {
          "output_type": "display_data",
          "data": {
            "text/plain": [
              "<Figure size 720x360 with 1 Axes>"
            ],
            "image/png": "[encoded data removed]"
          },
          "metadata": {
            "needs_background": "light"
          }
        },
        {
          "output_type": "stream",
          "name": "stdout",
          "text": [
            "mean1 = 4.571708, mean2 = 4.566664\n",
            "var1 = 0.003819, var2 = 0.003396\n"
          ]
        }
      ],
      "source": [
        "# if we don't have an stationary data we can use log(data) instead\n",
        "# or something like that to make it stationary to have better result\n",
        "# our data here is stationary, so this sell is not necessery\n",
        "\n",
        "x = df.values\n",
        "log = np.log(x)\n",
        "plt.hist(log)\n",
        "plt.show()\n",
        "\n",
        "plt.figure(figsize=(10,5))\n",
        "plt.plot(log)\n",
        "plt.show()\n",
        "\n",
        "split = round(len(x)/2)\n",
        "log1, log2 = log[:split], log[split:]\n",
        "mean1, mean2 = log1.mean(), log2.mean()\n",
        "var1, var2 = log1.var(), log2.var()\n",
        "print(\"mean1 = %f, mean2 = %f\" % (mean1,mean2))\n",
        "print(\"var1 = %f, var2 = %f\" % (var1,var2))"
      ]
    },
    {
      "cell_type": "markdown",
      "metadata": {
        "id": "e1CCecACgGX-"
      },
      "source": [
        "The Augmented **Dickey-Fuller test** is a type of statistical test called a **unit root test**.\n",
        "\n",
        "The intuition behind a unit root test is that it determines how strongly a time series is defined by a trend.\n",
        "\n",
        "* Null Hypothesis (H0): If failed to be rejected, it suggests the time series has a unit root, meaning it is non-stationary. It has some time dependent structure.\n",
        "* Alternate Hypothesis (H1): The null hypothesis is rejected; it suggests the time series does not have a unit root, meaning it is stationary. It does not have time-dependent structure.\n",
        "\n",
        "We interpret this result using the p-value from the test. A p-value below a threshold (such as 5% or 1%) suggests we reject the null hypothesis (stationary), otherwise a p-value above the threshold suggests we fail to reject the null hypothesis (non-stationary).\n",
        "\n",
        "* p-value > 0.05: Fail to reject the null hypothesis (H0), the data has a unit root and is non-stationary.\n",
        "* p-value <= 0.05: Reject the null hypothesis (H0), the data does not have a unit root and is stationary."
      ]
    },
    {
      "cell_type": "code",
      "execution_count": 9,
      "metadata": {
        "colab": {
          "base_uri": "https://localhost:8080/"
        },
        "id": "y3kmTs_8fQYe",
        "outputId": "5afd3ed3-397a-44db-99aa-b2a67b80a226"
      },
      "outputs": [
        {
          "output_type": "stream",
          "name": "stdout",
          "text": [
            "ADF Statistic: -7.455368\n",
            "p-value: 0.000000\n",
            "Critical Values:\n",
            "\t1%: -3.434\n",
            "\t5%: -2.863\n",
            "\t10%: -2.568\n"
          ]
        }
      ],
      "source": [
        "x = df.values\n",
        "x = x.reshape((1800))\n",
        "result = adfuller(x)\n",
        "print('ADF Statistic: %f' % result[0])\n",
        "print('p-value: %f' % result[1])\n",
        "print('Critical Values:')\n",
        "for key, value in result[4].items():\n",
        "\tprint('\\t%s: %.3f' % (key, value))"
      ]
    },
    {
      "cell_type": "markdown",
      "metadata": {
        "id": "2gpnLfyamNrx"
      },
      "source": [
        "#Preprocceing(scale and supervised data)"
      ]
    },
    {
      "cell_type": "code",
      "execution_count": 10,
      "metadata": {
        "id": "bD1GTdp3epcI"
      },
      "outputs": [],
      "source": [
        "s = MinMaxScaler(feature_range=(-1,1))\n",
        "df = s.fit_transform(df[[0]])"
      ]
    },
    {
      "cell_type": "code",
      "execution_count": 11,
      "metadata": {
        "id": "3pVllUqYplIb"
      },
      "outputs": [],
      "source": [
        "# convert history(list of minutes) into inputs and outputs, n_out:number of time steps\n",
        "# returns the data in the overlapping moving window format(5,7,15 minutes)\n",
        "def to_supervised(train, n_input, n_out):\n",
        "\t# flatten data to have 8 time series sequences.\n",
        "\tdata = train\n",
        "\tX, y = list(), list()\n",
        "\tin_start = 0\n",
        "\t# step over the entire history one time step at a time\n",
        "\tfor _ in range(len(data)):\n",
        "\t\t# define the end of the input sequence\n",
        "\t\tin_end = in_start + n_input\n",
        "\t\tout_end = in_end + n_out\n",
        "\t\t# ensure we have enough data for this instance\n",
        "\t\tif out_end <= len(data):\n",
        "\t\t\tx_input = data[in_start:in_end, 0]\n",
        "\t\t\tx_input = x_input.reshape((len(x_input), 1))\n",
        "\t\t\tX.append(x_input)\n",
        "\t\t\ty.append(data[in_end:out_end, 0])\n",
        "\t\t# move along one time step\n",
        "\t\tin_start += 1\n",
        "\treturn np.array(X),np.array(y)"
      ]
    },
    {
      "cell_type": "code",
      "execution_count": 12,
      "metadata": {
        "id": "S5oyJqzF4Mie"
      },
      "outputs": [],
      "source": [
        "# split a univariate dataset into train/test sets\n",
        "def split_dataset(data,n_input,n_out,percent):\n",
        "\t# split into standard weeks\n",
        "\t# Scale features\n",
        "\tx, y = to_supervised(data,n_input,n_out)\n",
        "\tn = int(len(x)*percent)\n",
        "\ttrain = [x[:n,:], y[:n]]\n",
        "\ttest = [x[n:,:], y[n:]]\n",
        "\treturn train, test"
      ]
    },
    {
      "cell_type": "markdown",
      "metadata": {
        "id": "zV4Siaod18rp"
      },
      "source": [
        "#build model"
      ]
    },
    {
      "cell_type": "code",
      "execution_count": 30,
      "metadata": {
        "id": "949EWWQWq6zI"
      },
      "outputs": [],
      "source": [
        "def build_model(hp):  #prepare model for tuner\n",
        "\tn_timesteps, n_features, n_out = 360, 1, 600\n",
        "\t# define model\n",
        "\tmodel = Sequential()\n",
        "\t\n",
        "\tmodel.add(Bidirectional(LSTM(\n",
        "\t\t\tunits=hp.Int(\"BILSTM1 units\",min_value=10, max_value=500,step=16), \n",
        "\t\t\t# return_sequences=True\n",
        "\t\t\t)\n",
        "\t\t\t,input_shape=(n_timesteps, n_features)))\n",
        " \n",
        "\tmodel.add(Dropout(\n",
        "\t\t\trate=hp.Float(\"dropout1\",min_value=0.1,max_value=0.9,step=0.1)\n",
        "\t ))\n",
        " \n",
        "\tmodel.add(Bidirectional(LSTM(\n",
        "\t\t\tunits=hp.Int(\"BILSTM2 units\",min_value=10,max_value=500,step=16),\n",
        "\t\t\treturn_sequences=True\n",
        "\t )))\n",
        "\tmodel.add(Dropout(\n",
        "\t\t\trate=hp.Float(\"dropout2\",min_value=0.1,max_value=0.9,step=0.1)\n",
        "\t))\n",
        "\n",
        "\tmodel.add(Bidirectional(LSTM(\n",
        "\t\t\tunits=hp.Int(\"BILSTM3 units\",min_value=10,max_value=500,step=16),\n",
        "\t )))\n",
        "\tmodel.add(Dropout(\n",
        "\t\t\trate=hp.Float(\"dropout3\",min_value=0.1,max_value=0.9,step=0.1)\n",
        "\t))\n",
        "\n",
        "\tmodel.add(Dense(n_out, activation=\"relu\"))\n",
        "\tmodel.compile(loss='mse', optimizer='adam',metrics=['accuracy',RootMeanSquaredError()])\n",
        "\treturn model"
      ]
    },
    {
      "cell_type": "code",
      "execution_count": 31,
      "metadata": {
        "id": "uXtX0hlD2XiZ"
      },
      "outputs": [],
      "source": [
        "def tune(train,test,name,dir):\n",
        "  \n",
        "  #prepare data\n",
        "  x_train, y_train = train[0], train[1]\n",
        "  x_test, y_test = test[0], test[1]\n",
        "  project_name, directory = name , dir\n",
        "  \n",
        "  #define parameters\n",
        "  verbose, epochs, batch_size = 0, 5, 16\n",
        "  n_timesteps, n_features, n_outputs = x_train.shape[1], x_train.shape[2], y_train.shape[1]\n",
        "\n",
        "  #configure tuner\n",
        "  tuner = kt.RandomSearch(\n",
        "    hypermodel=build_model,\n",
        "    objective=\"val_accuracy\",\n",
        "    max_trials=3,\n",
        "    executions_per_trial=2,\n",
        "    overwrite=True,\n",
        "    directory=directory,\n",
        "    project_name=project_name\n",
        "\t)\n",
        "  \n",
        "  #search for best parameters\n",
        "  tuner.search(x_train, y_train, epochs=epochs, validation_data=(x_test, y_test))\n",
        "\n",
        "  #build best model\n",
        "  models = tuner.get_best_models(num_models=2)\n",
        "  best_model = models[0]\n",
        "  best_model.build(input_shape=(n_timesteps, n_features))\n",
        "  best_model.summary()\n",
        "  tuner.results_summary()\n",
        "\n",
        "  return best_model"
      ]
    },
    {
      "cell_type": "markdown",
      "metadata": {
        "id": "FdITtcic4mHm"
      },
      "source": [
        "# Evaluation"
      ]
    },
    {
      "cell_type": "code",
      "execution_count": 32,
      "metadata": {
        "id": "4cm4cN1TExew"
      },
      "outputs": [],
      "source": [
        "# evaluate a single model\n",
        "def evaluate_model(train, test,name,dir):\n",
        "\t# compile model\n",
        "\tbuild_model(kt.HyperParameters())\n",
        "  \n",
        "\t# tune and fit model\n",
        "\tmodel = tune(train,test,name,dir)\n",
        "\n",
        "\t# predict test set\n",
        "\tpredict = model.predict(test[0])\n",
        "  # concatinations(I don't know why?!?)\n",
        "\txtest = test[0].reshape((test[0].shape[0],test[0].shape[1]))\n",
        "\t# predictions = np.concatenate((xtest,predict),axis=1)\n",
        "\t# observation = np.concatenate((xtest,test[1]),axis=1)\n",
        "\tpredictions = predict\n",
        "\tobservation = test[1]\n",
        "\t\n",
        "  #calculate rmse and scores\n",
        "\tscore, scores = rmse(observation,predictions)\n",
        "\treturn predict,score, scores"
      ]
    },
    {
      "cell_type": "code",
      "execution_count": 16,
      "metadata": {
        "id": "3WErCdHcErHM"
      },
      "outputs": [],
      "source": [
        "# Function to return the performance of a model based on multiple seven-day forecasts\n",
        "# evaluate one or more weekly forecasts against expected values\n",
        "def rmse(actual, predicted):\n",
        "\tscores = list()\n",
        "\t# calculate an RMSE score for each day\n",
        "\tfor i in range(len(actual)):\n",
        "\t\t# calculate mse\n",
        "\t\tmse = mean_squared_error(actual[i], predicted[i])\n",
        "\t\t# calculate rmse\n",
        "\t\trmse = math.sqrt(mse)\n",
        "\t\t# store\n",
        "\t\tscores.append(rmse)\n",
        "\t# calculate overall RMSE\n",
        "\t\n",
        "\ts = 0\n",
        "\tfor row in range(actual.shape[0]):\n",
        "\t\tfor col in range(actual.shape[1]):\n",
        "\t\t\ts += (actual[row, col] - predicted[row, col])**2\n",
        "\tscore = math.sqrt(s / (actual.shape[0] * actual.shape[1]))\n",
        "\treturn score, scores"
      ]
    },
    {
      "cell_type": "markdown",
      "metadata": {
        "id": "Xo7y0_kK1jSa"
      },
      "source": [
        "#RUN and Plot results"
      ]
    },
    {
      "cell_type": "code",
      "execution_count": 33,
      "metadata": {
        "colab": {
          "base_uri": "https://localhost:8080/"
        },
        "id": "dgUOqyr1s-1y",
        "outputId": "439dd1c1-afb2-4aff-e546-d16e4b676a96"
      },
      "outputs": [
        {
          "output_type": "stream",
          "name": "stdout",
          "text": [
            "Trial 3 Complete [00h 00m 25s]\n",
            "val_accuracy: 0.0\n",
            "\n",
            "Best val_accuracy So Far: 0.0019762846641242504\n",
            "Total elapsed time: 00h 01m 04s\n",
            "INFO:tensorflow:Oracle triggered exit\n",
            "Model: \"sequential\"\n",
            "_________________________________________________________________\n",
            " Layer (type)                Output Shape              Param #   \n",
            "=================================================================\n",
            " bidirectional (Bidirectiona  (None, 52)               5824      \n",
            " l)                                                              \n",
            "                                                                 \n",
            " dropout (Dropout)           (None, 52)                0         \n",
            "                                                                 \n",
            " dense (Dense)               (None, 600)               31800     \n",
            "                                                                 \n",
            "=================================================================\n",
            "Total params: 37,624\n",
            "Trainable params: 37,624\n",
            "Non-trainable params: 0\n",
            "_________________________________________________________________\n",
            "Results summary\n",
            "Results in /content/BI-LSTM\n",
            "Showing 10 best trials\n",
            "<keras_tuner.engine.objective.Objective object at 0x7f3fcf13a7d0>\n",
            "Trial summary\n",
            "Hyperparameters:\n",
            "BILSTM1 units: 26\n",
            "dropout1: 0.7000000000000001\n",
            "Score: 0.0019762846641242504\n",
            "Trial summary\n",
            "Hyperparameters:\n",
            "BILSTM1 units: 234\n",
            "dropout1: 0.8\n",
            "Score: 0.0\n",
            "Trial summary\n",
            "Hyperparameters:\n",
            "BILSTM1 units: 266\n",
            "dropout1: 0.5\n",
            "Score: 0.0\n",
            "WARNING:tensorflow:Detecting that an object or model or tf.train.Checkpoint is being deleted with unrestored values. See the following logs for the specific values in question. To silence these warnings, use `status.expect_partial()`. See https://www.tensorflow.org/api_docs/python/tf/train/Checkpoint#restorefor details about the status object returned by the restore function.\n",
            "WARNING:tensorflow:Value in checkpoint could not be found in the restored object: (root).optimizer.iter\n",
            "WARNING:tensorflow:Value in checkpoint could not be found in the restored object: (root).optimizer.beta_1\n",
            "WARNING:tensorflow:Value in checkpoint could not be found in the restored object: (root).optimizer.beta_2\n",
            "WARNING:tensorflow:Value in checkpoint could not be found in the restored object: (root).optimizer.decay\n",
            "WARNING:tensorflow:Value in checkpoint could not be found in the restored object: (root).optimizer.learning_rate\n",
            "running time : 1.15 min\n",
            "LSTM RMSE : [0.461]\n"
          ]
        }
      ],
      "source": [
        "n_input = 360\n",
        "n_out = 600\n",
        "name = \"BI-LSTM(1 layer)\"\n",
        "dir = \"/content\"\n",
        "# split into train and test\n",
        "train ,test = split_dataset(df,n_input,n_out,0.7)\n",
        "\n",
        "# evaluate model\n",
        "t1 = time.time()\n",
        "predict, score, scores = evaluate_model(train, test ,name ,dir)\n",
        "t2 = time.time()\n",
        "\n",
        "print('running time : %.2f min'%((t2-t1)/60))\n",
        "print('LSTM RMSE : [%.3f]' %(score))"
      ]
    },
    {
      "cell_type": "markdown",
      "metadata": {
        "id": "A_GZ6gRv_Wkr"
      },
      "source": [
        "#Report results"
      ]
    },
    {
      "cell_type": "markdown",
      "metadata": {
        "id": "NLwu-MNcy1FG"
      },
      "source": [
        "##RNN Report\n",
        "\n",
        "\n",
        "```\n",
        "  No. of layers  |   No. of neurons   |     Dropout     |   RMSE\n",
        "        1        |        410         |       0.5       |   0.506\n",
        "        2        |     [394,346]      |    [0.7,0.2]    |   0.515\n",
        "        3        |    [362,90,138]    |  [0.4,0.2,0.5]  |   0.510\n",
        "```\n",
        "\n"
      ]
    },
    {
      "cell_type": "markdown",
      "metadata": {
        "id": "63ebp3hlA2df"
      },
      "source": [
        "\n",
        "\n",
        "```\n",
        "def build_model(hp):  #prepare model for tuner\n",
        "\tn_timesteps, n_features, n_out = 360, 1, 600\n",
        "\t# define model\n",
        "\tmodel = Sequential()\n",
        "\t\n",
        "\tmodel.add(SimpleRNN(\n",
        "\t\t\tunits=hp.Int(\"RNN1 units\",min_value=10, max_value=500,step=16), \n",
        "\t\t\tinput_shape=(n_timesteps, n_features),\n",
        "\t\t\treturn_sequences=True\n",
        "\t\t))\n",
        "\tmodel.add(Dropout(\n",
        "\t\t\trate=hp.Float(\"dropout1\",min_value=0.1,max_value=0.9,step=0.1)\n",
        "\t ))\n",
        " \n",
        "\tmodel.add(SimpleRNN(\n",
        "\t\t\tunits=hp.Int(\"RNN2 units\",min_value=10,max_value=500,step=16),\n",
        "\t\t\treturn_sequences=True\n",
        "\t ))\n",
        "\tmodel.add(Dropout(\n",
        "\t\t\trate=hp.Float(\"dropout2\",min_value=0.1,max_value=0.9,step=0.1)\n",
        "\t))\n",
        "\n",
        "\tmodel.add(SimpleRNN(\n",
        "\t\t\tunits=hp.Int(\"RNN3 units\",min_value=10,max_value=500,step=16),\n",
        "\t ))\n",
        "\tmodel.add(Dropout(\n",
        "\t\t\trate=hp.Float(\"dropout3\",min_value=0.1,max_value=0.9,step=0.1)\n",
        "\t))\n",
        "\n",
        "\tmodel.add(Dense(n_out, activation=\"relu\"))\n",
        "\tmodel.compile(loss='mse', optimizer='adam',metrics=['accuracy',RootMeanSquaredError()])\n",
        "\treturn model\n",
        "```\n",
        "\n"
      ]
    },
    {
      "cell_type": "markdown",
      "metadata": {
        "id": "mlsrDwMXwl1N"
      },
      "source": [
        "##LSTM Report\n",
        "\n",
        "\n",
        "```\n",
        "  No. of layers  |   No. of neurons   |     Dropout     |   RMSE\n",
        "        1        |         74         |       0.7       |   0.481\n",
        "        2        |      [106,378]     |    [0.7,0.9]    |   0.508\n",
        "        3        |     [282,90,346]   |  [0.5,0.7,0.5]  |   0.438\n",
        "```\n",
        "\n"
      ]
    },
    {
      "cell_type": "markdown",
      "metadata": {
        "id": "Hh5mjE932Q0V"
      },
      "source": [
        "\n",
        "\n",
        "```\n",
        "def build_model(hp):  #prepare model for tuner\n",
        "\tn_timesteps, n_features, n_out = 360, 1, 600\n",
        "\t# define model\n",
        "\tmodel = Sequential()\n",
        "\t\n",
        "\tmodel.add(LSTM(\n",
        "\t\t\tunits=hp.Int(\"lstm1 units\",min_value=10, max_value=500,step=16), \n",
        "\t\t\tinput_shape=(n_timesteps, n_features),\n",
        "\t\t\treturn_sequences=True\n",
        "\t\t))\n",
        "\tmodel.add(Dropout(\n",
        "\t\t\trate=hp.Float(\"dropout1\",min_value=0.1,max_value=0.9,step=0.1)\n",
        "\t ))\n",
        " \n",
        "\tmodel.add(LSTM(\n",
        "\t\t\tunits=hp.Int(\"lstm2 units\",min_value=10,max_value=500,step=16),\n",
        "\t\t\treturn_sequences=True\n",
        "\t ))\n",
        "\tmodel.add(Dropout(\n",
        "\t\t\trate=hp.Float(\"dropout2\",min_value=0.1,max_value=0.9,step=0.1)\n",
        "\t))\n",
        "\n",
        "\tmodel.add(LSTM(\n",
        "\t\t\tunits=hp.Int(\"lstm3 units\",min_value=10,max_value=500,step=16),\n",
        "\t ))\n",
        "\tmodel.add(Dropout(\n",
        "\t\t\trate=hp.Float(\"dropout3\",min_value=0.1,max_value=0.9,step=0.1)\n",
        "\t))\n",
        "\n",
        "\tmodel.add(Dense(n_out, activation=\"relu\"))\n",
        "\tmodel.compile(loss='mse', optimizer='adam',metrics=['accuracy',RootMeanSquaredError()])\n",
        "\treturn model\n",
        "```\n",
        "\n"
      ]
    },
    {
      "cell_type": "markdown",
      "metadata": {
        "id": "Oy3nIolIyxT5"
      },
      "source": [
        "##GRU Report\n",
        "\n",
        "\n",
        "```\n",
        "  No. of layers  |    No. of neurons  |     Dropout     |   RMSE\n",
        "        1        |         122        |       0.7       |   0.482\n",
        "        2        |       [74,58]      |    [0.8,0.4]    |   0.428\n",
        "        3        |     [90,42,490]    |  [0.2,0.6,0.1]  |   0.451\n",
        "```\n",
        "\n"
      ]
    },
    {
      "cell_type": "markdown",
      "metadata": {
        "id": "crhEYpFj3teh"
      },
      "source": [
        "\n",
        "\n",
        "```\n",
        "def build_model(hp):  #prepare model for tuner\n",
        "\tn_timesteps, n_features, n_out = 360, 1, 600\n",
        "\t# define model\n",
        "\tmodel = Sequential()\n",
        "\t\n",
        "\tmodel.add(GRU(\n",
        "\t\t\tunits=hp.Int(\"GRU1 units\",min_value=10, max_value=500,step=16), \n",
        "\t\t\tinput_shape=(n_timesteps, n_features),\n",
        "\t\t\treturn_sequences=True\n",
        "\t\t))\n",
        "\tmodel.add(Dropout(\n",
        "\t\t\trate=hp.Float(\"dropout1\",min_value=0.1,max_value=0.9,step=0.1)\n",
        "\t ))\n",
        " \n",
        "\tmodel.add(GRU(\n",
        "\t\t\tunits=hp.Int(\"GRU2 units\",min_value=10,max_value=500,step=16),\n",
        "\t\t\treturn_sequences=True\n",
        "\t ))\n",
        "\tmodel.add(Dropout(\n",
        "\t\t\trate=hp.Float(\"dropout2\",min_value=0.1,max_value=0.9,step=0.1)\n",
        "\t))\n",
        "\n",
        "\tmodel.add(GRU(\n",
        "\t\t\tunits=hp.Int(\"GRU3 units\",min_value=10,max_value=500,step=16),\n",
        "\t ))\n",
        "\tmodel.add(Dropout(\n",
        "\t\t\trate=hp.Float(\"dropout3\",min_value=0.1,max_value=0.9,step=0.1)\n",
        "\t))\n",
        "\n",
        "\tmodel.add(Dense(n_out, activation=\"relu\"))\n",
        "\tmodel.compile(loss='mse', optimizer='adam',metrics=['accuracy',RootMeanSquaredError()])\n",
        "\treturn model\n",
        "```\n",
        "\n"
      ]
    },
    {
      "cell_type": "markdown",
      "metadata": {
        "id": "J3eF8eQMy5bf"
      },
      "source": [
        "##BI-LSTM Report\n",
        "\n",
        "\n",
        "```\n",
        "  No. of layers  |   No. of neurons   |     Dropout     |   RMSE\n",
        "        1        |         90         |       0.6       |   0.457\n",
        "        2        |       [74,58]      |    [0.8,0.4]    |   0.466\n",
        "        3        |    [346,106,394]   |  [0.2,0.6,0.7]  |   0.501\n",
        "```\n",
        "\n"
      ]
    },
    {
      "cell_type": "markdown",
      "source": [
        "https://machinelearningmastery.com/develop-bidirectional-lstm-sequence-classification-python-keras/\n",
        "\n",
        "```\n",
        "def build_model(hp):  #prepare model for tuner\n",
        "\tn_timesteps, n_features, n_out = 360, 1, 600\n",
        "\t# define model\n",
        "\tmodel = Sequential()\n",
        "\t\n",
        "\tmodel.add(Bidirectional(LSTM(\n",
        "\t\t\tunits=hp.Int(\"BILSTM1 units\",min_value=10, max_value=500,step=16), \n",
        "\t\t\treturn_sequences=True\n",
        "\t\t\t)\n",
        "\t\t\t,input_shape=(n_timesteps, n_features)))\n",
        " \n",
        "\tmodel.add(Dropout(\n",
        "\t\t\trate=hp.Float(\"dropout1\",min_value=0.1,max_value=0.9,step=0.1)\n",
        "\t ))\n",
        " \n",
        "\tmodel.add(Bidirectional(LSTM(\n",
        "\t\t\tunits=hp.Int(\"BILSTM2 units\",min_value=10,max_value=500,step=16),\n",
        "\t\t\treturn_sequences=True\n",
        "\t )))\n",
        "\tmodel.add(Dropout(\n",
        "\t\t\trate=hp.Float(\"dropout2\",min_value=0.1,max_value=0.9,step=0.1)\n",
        "\t))\n",
        "\n",
        "\tmodel.add(Bidirectional(LSTM(\n",
        "\t\t\tunits=hp.Int(\"BILSTM3 units\",min_value=10,max_value=500,step=16),\n",
        "\t )))\n",
        "\tmodel.add(Dropout(\n",
        "\t\t\trate=hp.Float(\"dropout3\",min_value=0.1,max_value=0.9,step=0.1)\n",
        "\t))\n",
        "\n",
        "\tmodel.add(Dense(n_out, activation=\"relu\"))\n",
        "\tmodel.compile(loss='mse', optimizer='adam',metrics=['accuracy',RootMeanSquaredError()])\n",
        "\treturn model\n",
        "```\n",
        "\n"
      ],
      "metadata": {
        "id": "I-awquZSeOVj"
      }
    }
  ],
  "metadata": {
    "accelerator": "GPU",
    "colab": {
      "collapsed_sections": [
        "TJu0AlrNbbLl",
        "2gpnLfyamNrx",
        "NLwu-MNcy1FG",
        "mlsrDwMXwl1N",
        "Oy3nIolIyxT5",
        "J3eF8eQMy5bf"
      ],
      "name": "Heart_Rate.ipynb",
      "provenance": []
    },
    "kernelspec": {
      "display_name": "Python 3",
      "name": "python3"
    },
    "language_info": {
      "name": "python"
    }
  },
  "nbformat": 4,
  "nbformat_minor": 0
}