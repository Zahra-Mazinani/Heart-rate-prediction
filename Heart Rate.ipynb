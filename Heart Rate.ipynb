{
  "cells": [
    {
      "cell_type": "markdown",
      "metadata": {
        "id": "16yPzGogbXNt"
      },
      "source": [
        "*in the name of Allah*"
      ]
    },
    {
      "cell_type": "markdown",
      "metadata": {
        "id": "BtBTyf5vnAeF"
      },
      "source": [
        "# Description:\n",
        "The article was about heart rate prediction.\n",
        "I got 3 minutes as input in this code and predict 5 minutes as output. We have the heart rate for every 0.5 seconds in the data set. So for getting 3 minutes as input, our input shape will be like this: 60(60 seconds per minute) * 3(minutes) * 2(for 1 second) = 360,  and for output shape(predict 5 minutes), it will be : 60 * 5 * 2 = 600.\n",
        "\n",
        "* Before starting to work with our data, we have to check if our data is stationary or not.\n",
        "For this part, I checked it in three ways: \n",
        "  1. Histogram plot to check if we have normal distribution data or not.\n",
        "  2. calculate mean and variance in parts of data to understand whether our mean or variance in our data is alike or not.\n",
        "  3. Dickey-Fuller test\n",
        "\n",
        "  If our data wasn't stationary, we had to make it stationary (It was stationary.)\n",
        "\n",
        "* After that, we have to scale our data between [-1,1] \n",
        "* There are some functions that I will describe here:\n",
        "  *   to_supervised : \n",
        "     this function will take our dataset, make windows and predictions, and make an array containing two columns (3 minutes input, 5minutes output).\n",
        "And the next window and prediction will be in the next row.\n",
        "  *   split_dataset: It will take our dataset, supervise data via the to_supervised function, and split it to train and test.\n",
        "\n",
        "These parts of code were about preparing data for building a model.\n",
        "\n",
        "The next step is about building a model.  \n",
        "  (first, I made my model without Keras tuner. and then I used Keras tuner )\n",
        "  * Functions: \n",
        "    * build_model: it takes one argument name hp and prepares a model to tune model parameters. number of neurons is in the range (10, 500), and the dropout value is in the range (0.1, 0.9)\n",
        "\n",
        "    * tune: it defines parameters(train, test,  model name, and directory address, where our result will save). It will find the best parameters and build a model with the parameters.\n",
        "\n",
        "The next part is about evaluation.we used rmse for evaluation mertric.\n",
        "  * Functions:\n",
        "    * rmse: it calculates rmse score.\n",
        "    * evaluate_model: first, it runs the build_model function, then tune parameters and build model,  and at last calculates rmse score."
      ]
    },
    {
      "cell_type": "markdown",
      "source": [
        "# Report\n",
        "In the following, I have reported the values calculated in the code by different models."
      ],
      "metadata": {
        "id": "v710U0PdMnT-"
      }
    },
    {
      "cell_type": "markdown",
      "metadata": {
        "id": "4de6yGDmL_U5"
      },
      "source": [
        "##RNN Report\n",
        "\n",
        "\n",
        "```\n",
        "  No. of layers  |   No. of neurons   |     Dropout     |   RMSE\n",
        "        1        |        410         |       0.5       |   0.506\n",
        "        2        |     [394,346]      |    [0.7,0.2]    |   0.515\n",
        "        3        |    [362,90,138]    |  [0.4,0.2,0.5]  |   0.510\n",
        "```\n",
        "\n"
      ]
    },
    {
      "cell_type": "markdown",
      "metadata": {
        "id": "KBBGrkjWMI25"
      },
      "source": [
        "##LSTM Report\n",
        "\n",
        "\n",
        "```\n",
        "  No. of layers  |   No. of neurons   |     Dropout     |   RMSE\n",
        "        1        |         74         |       0.7       |   0.481\n",
        "        2        |      [106,378]     |    [0.7,0.9]    |   0.508\n",
        "        3        |     [282,90,346]   |  [0.5,0.7,0.5]  |   0.438\n",
        "```\n",
        "\n"
      ]
    },
    {
      "cell_type": "markdown",
      "metadata": {
        "id": "h3DJzb0XMOvg"
      },
      "source": [
        "##GRU Report\n",
        "\n",
        "\n",
        "```\n",
        "  No. of layers  |    No. of neurons  |     Dropout     |   RMSE\n",
        "        1        |         122        |       0.7       |   0.482\n",
        "        2        |       [74,58]      |    [0.8,0.4]    |   0.428\n",
        "        3        |     [90,42,490]    |  [0.2,0.6,0.1]  |   0.451\n",
        "```\n",
        "\n"
      ]
    },
    {
      "cell_type": "markdown",
      "metadata": {
        "id": "jN-DbHfnMSlO"
      },
      "source": [
        "##BI-LSTM Report\n",
        "\n",
        "\n",
        "```\n",
        "  No. of layers  |   No. of neurons   |     Dropout     |   RMSE\n",
        "        1        |         154        |       0.3       |   0.452\n",
        "        2        |       [74,58]      |    [0.8,0.4]    |   0.466\n",
        "        3        |    [346,106,394]   |  [0.2,0.6,0.7]  |   0.501\n",
        "```\n",
        "\n"
      ]
    },
    {
      "cell_type": "markdown",
      "source": [
        "# Import libraries"
      ],
      "metadata": {
        "id": "6JKePSXbMgIJ"
      }
    },
    {
      "cell_type": "code",
      "execution_count": null,
      "metadata": {
        "id": "coZskGgpd3sP"
      },
      "outputs": [],
      "source": [
        "import numpy as np\n",
        "import pandas as pd\n",
        "import time\n",
        "import math\n",
        "import matplotlib.pyplot as plt\n",
        "from statsmodels.tsa.stattools import adfuller\n",
        "from sklearn.preprocessing import MinMaxScaler\n",
        "\n",
        "from keras.metrics import RootMeanSquaredError\n",
        "from keras.metrics import mean_squared_error\n",
        "from keras.models import Sequential\n",
        "from keras.models import load_model\n",
        "from keras.layers import (SimpleRNN, Dense, LSTM, GRU, Flatten, Dropout, Bidirectional)\n",
        "\n",
        "!pip install keras-tuner --upgrade\n",
        "import keras_tuner as kt"
      ]
    },
    {
      "cell_type": "markdown",
      "metadata": {
        "id": "TJu0AlrNbbLl"
      },
      "source": [
        "#Preprocessing"
      ]
    },
    {
      "cell_type": "code",
      "execution_count": null,
      "metadata": {
        "id": "BoAeasaseWfy"
      },
      "outputs": [],
      "source": [
        "df = pd.read_csv(\"/content/heart-rate-time-series.csv\",header=None)"
      ]
    },
    {
      "cell_type": "code",
      "execution_count": null,
      "metadata": {
        "colab": {
          "base_uri": "https://localhost:8080/",
          "height": 206
        },
        "id": "1Z78ro9eXG7b",
        "outputId": "8f936c12-018f-4386-d0c3-d2f388dc9273"
      },
      "outputs": [
        {
          "output_type": "execute_result",
          "data": {
            "text/plain": [
              "         0\n",
              "0  91.4634\n",
              "1  91.4634\n",
              "2  91.1834\n",
              "3  91.8788\n",
              "4  91.1772"
            ],
            "text/html": [
              "\n",
              "  <div id=\"df-f51c0886-09f0-48e9-86f6-ea3923c17ef9\">\n",
              "    <div class=\"colab-df-container\">\n",
              "      <div>\n",
              "<style scoped>\n",
              "    .dataframe tbody tr th:only-of-type {\n",
              "        vertical-align: middle;\n",
              "    }\n",
              "\n",
              "    .dataframe tbody tr th {\n",
              "        vertical-align: top;\n",
              "    }\n",
              "\n",
              "    .dataframe thead th {\n",
              "        text-align: right;\n",
              "    }\n",
              "</style>\n",
              "<table border=\"1\" class=\"dataframe\">\n",
              "  <thead>\n",
              "    <tr style=\"text-align: right;\">\n",
              "      <th></th>\n",
              "      <th>0</th>\n",
              "    </tr>\n",
              "  </thead>\n",
              "  <tbody>\n",
              "    <tr>\n",
              "      <th>0</th>\n",
              "      <td>91.4634</td>\n",
              "    </tr>\n",
              "    <tr>\n",
              "      <th>1</th>\n",
              "      <td>91.4634</td>\n",
              "    </tr>\n",
              "    <tr>\n",
              "      <th>2</th>\n",
              "      <td>91.1834</td>\n",
              "    </tr>\n",
              "    <tr>\n",
              "      <th>3</th>\n",
              "      <td>91.8788</td>\n",
              "    </tr>\n",
              "    <tr>\n",
              "      <th>4</th>\n",
              "      <td>91.1772</td>\n",
              "    </tr>\n",
              "  </tbody>\n",
              "</table>\n",
              "</div>\n",
              "      <button class=\"colab-df-convert\" onclick=\"convertToInteractive('df-f51c0886-09f0-48e9-86f6-ea3923c17ef9')\"\n",
              "              title=\"Convert this dataframe to an interactive table.\"\n",
              "              style=\"display:none;\">\n",
              "        \n",
              "  <svg xmlns=\"http://www.w3.org/2000/svg\" height=\"24px\"viewBox=\"0 0 24 24\"\n",
              "       width=\"24px\">\n",
              "    <path d=\"M0 0h24v24H0V0z\" fill=\"none\"/>\n",
              "    <path d=\"M18.56 5.44l.94 2.06.94-2.06 2.06-.94-2.06-.94-.94-2.06-.94 2.06-2.06.94zm-11 1L8.5 8.5l.94-2.06 2.06-.94-2.06-.94L8.5 2.5l-.94 2.06-2.06.94zm10 10l.94 2.06.94-2.06 2.06-.94-2.06-.94-.94-2.06-.94 2.06-2.06.94z\"/><path d=\"M17.41 7.96l-1.37-1.37c-.4-.4-.92-.59-1.43-.59-.52 0-1.04.2-1.43.59L10.3 9.45l-7.72 7.72c-.78.78-.78 2.05 0 2.83L4 21.41c.39.39.9.59 1.41.59.51 0 1.02-.2 1.41-.59l7.78-7.78 2.81-2.81c.8-.78.8-2.07 0-2.86zM5.41 20L4 18.59l7.72-7.72 1.47 1.35L5.41 20z\"/>\n",
              "  </svg>\n",
              "      </button>\n",
              "      \n",
              "  <style>\n",
              "    .colab-df-container {\n",
              "      display:flex;\n",
              "      flex-wrap:wrap;\n",
              "      gap: 12px;\n",
              "    }\n",
              "\n",
              "    .colab-df-convert {\n",
              "      background-color: #E8F0FE;\n",
              "      border: none;\n",
              "      border-radius: 50%;\n",
              "      cursor: pointer;\n",
              "      display: none;\n",
              "      fill: #1967D2;\n",
              "      height: 32px;\n",
              "      padding: 0 0 0 0;\n",
              "      width: 32px;\n",
              "    }\n",
              "\n",
              "    .colab-df-convert:hover {\n",
              "      background-color: #E2EBFA;\n",
              "      box-shadow: 0px 1px 2px rgba(60, 64, 67, 0.3), 0px 1px 3px 1px rgba(60, 64, 67, 0.15);\n",
              "      fill: #174EA6;\n",
              "    }\n",
              "\n",
              "    [theme=dark] .colab-df-convert {\n",
              "      background-color: #3B4455;\n",
              "      fill: #D2E3FC;\n",
              "    }\n",
              "\n",
              "    [theme=dark] .colab-df-convert:hover {\n",
              "      background-color: #434B5C;\n",
              "      box-shadow: 0px 1px 3px 1px rgba(0, 0, 0, 0.15);\n",
              "      filter: drop-shadow(0px 1px 2px rgba(0, 0, 0, 0.3));\n",
              "      fill: #FFFFFF;\n",
              "    }\n",
              "  </style>\n",
              "\n",
              "      <script>\n",
              "        const buttonEl =\n",
              "          document.querySelector('#df-f51c0886-09f0-48e9-86f6-ea3923c17ef9 button.colab-df-convert');\n",
              "        buttonEl.style.display =\n",
              "          google.colab.kernel.accessAllowed ? 'block' : 'none';\n",
              "\n",
              "        async function convertToInteractive(key) {\n",
              "          const element = document.querySelector('#df-f51c0886-09f0-48e9-86f6-ea3923c17ef9');\n",
              "          const dataTable =\n",
              "            await google.colab.kernel.invokeFunction('convertToInteractive',\n",
              "                                                     [key], {});\n",
              "          if (!dataTable) return;\n",
              "\n",
              "          const docLinkHtml = 'Like what you see? Visit the ' +\n",
              "            '<a target=\"_blank\" href=https://colab.research.google.com/notebooks/data_table.ipynb>data table notebook</a>'\n",
              "            + ' to learn more about interactive tables.';\n",
              "          element.innerHTML = '';\n",
              "          dataTable['output_type'] = 'display_data';\n",
              "          await google.colab.output.renderOutput(dataTable, element);\n",
              "          const docLink = document.createElement('div');\n",
              "          docLink.innerHTML = docLinkHtml;\n",
              "          element.appendChild(docLink);\n",
              "        }\n",
              "      </script>\n",
              "    </div>\n",
              "  </div>\n",
              "  "
            ]
          },
          "metadata": {},
          "execution_count": 3
        }
      ],
      "source": [
        "df.head()"
      ]
    },
    {
      "cell_type": "code",
      "execution_count": null,
      "metadata": {
        "colab": {
          "base_uri": "https://localhost:8080/",
          "height": 300
        },
        "id": "w1QyoYjHedQu",
        "outputId": "402075d2-f835-48cf-d41e-d63676de644a"
      },
      "outputs": [
        {
          "output_type": "execute_result",
          "data": {
            "text/plain": [
              "                 0\n",
              "count  1800.000000\n",
              "mean     96.637474\n",
              "std       5.687179\n",
              "min      80.213900\n",
              "25%      92.418925\n",
              "50%      98.238450\n",
              "75%     101.362750\n",
              "max     104.895000"
            ],
            "text/html": [
              "\n",
              "  <div id=\"df-4c8016ef-ae13-4200-adb2-810f1278d5c1\">\n",
              "    <div class=\"colab-df-container\">\n",
              "      <div>\n",
              "<style scoped>\n",
              "    .dataframe tbody tr th:only-of-type {\n",
              "        vertical-align: middle;\n",
              "    }\n",
              "\n",
              "    .dataframe tbody tr th {\n",
              "        vertical-align: top;\n",
              "    }\n",
              "\n",
              "    .dataframe thead th {\n",
              "        text-align: right;\n",
              "    }\n",
              "</style>\n",
              "<table border=\"1\" class=\"dataframe\">\n",
              "  <thead>\n",
              "    <tr style=\"text-align: right;\">\n",
              "      <th></th>\n",
              "      <th>0</th>\n",
              "    </tr>\n",
              "  </thead>\n",
              "  <tbody>\n",
              "    <tr>\n",
              "      <th>count</th>\n",
              "      <td>1800.000000</td>\n",
              "    </tr>\n",
              "    <tr>\n",
              "      <th>mean</th>\n",
              "      <td>96.637474</td>\n",
              "    </tr>\n",
              "    <tr>\n",
              "      <th>std</th>\n",
              "      <td>5.687179</td>\n",
              "    </tr>\n",
              "    <tr>\n",
              "      <th>min</th>\n",
              "      <td>80.213900</td>\n",
              "    </tr>\n",
              "    <tr>\n",
              "      <th>25%</th>\n",
              "      <td>92.418925</td>\n",
              "    </tr>\n",
              "    <tr>\n",
              "      <th>50%</th>\n",
              "      <td>98.238450</td>\n",
              "    </tr>\n",
              "    <tr>\n",
              "      <th>75%</th>\n",
              "      <td>101.362750</td>\n",
              "    </tr>\n",
              "    <tr>\n",
              "      <th>max</th>\n",
              "      <td>104.895000</td>\n",
              "    </tr>\n",
              "  </tbody>\n",
              "</table>\n",
              "</div>\n",
              "      <button class=\"colab-df-convert\" onclick=\"convertToInteractive('df-4c8016ef-ae13-4200-adb2-810f1278d5c1')\"\n",
              "              title=\"Convert this dataframe to an interactive table.\"\n",
              "              style=\"display:none;\">\n",
              "        \n",
              "  <svg xmlns=\"http://www.w3.org/2000/svg\" height=\"24px\"viewBox=\"0 0 24 24\"\n",
              "       width=\"24px\">\n",
              "    <path d=\"M0 0h24v24H0V0z\" fill=\"none\"/>\n",
              "    <path d=\"M18.56 5.44l.94 2.06.94-2.06 2.06-.94-2.06-.94-.94-2.06-.94 2.06-2.06.94zm-11 1L8.5 8.5l.94-2.06 2.06-.94-2.06-.94L8.5 2.5l-.94 2.06-2.06.94zm10 10l.94 2.06.94-2.06 2.06-.94-2.06-.94-.94-2.06-.94 2.06-2.06.94z\"/><path d=\"M17.41 7.96l-1.37-1.37c-.4-.4-.92-.59-1.43-.59-.52 0-1.04.2-1.43.59L10.3 9.45l-7.72 7.72c-.78.78-.78 2.05 0 2.83L4 21.41c.39.39.9.59 1.41.59.51 0 1.02-.2 1.41-.59l7.78-7.78 2.81-2.81c.8-.78.8-2.07 0-2.86zM5.41 20L4 18.59l7.72-7.72 1.47 1.35L5.41 20z\"/>\n",
              "  </svg>\n",
              "      </button>\n",
              "      \n",
              "  <style>\n",
              "    .colab-df-container {\n",
              "      display:flex;\n",
              "      flex-wrap:wrap;\n",
              "      gap: 12px;\n",
              "    }\n",
              "\n",
              "    .colab-df-convert {\n",
              "      background-color: #E8F0FE;\n",
              "      border: none;\n",
              "      border-radius: 50%;\n",
              "      cursor: pointer;\n",
              "      display: none;\n",
              "      fill: #1967D2;\n",
              "      height: 32px;\n",
              "      padding: 0 0 0 0;\n",
              "      width: 32px;\n",
              "    }\n",
              "\n",
              "    .colab-df-convert:hover {\n",
              "      background-color: #E2EBFA;\n",
              "      box-shadow: 0px 1px 2px rgba(60, 64, 67, 0.3), 0px 1px 3px 1px rgba(60, 64, 67, 0.15);\n",
              "      fill: #174EA6;\n",
              "    }\n",
              "\n",
              "    [theme=dark] .colab-df-convert {\n",
              "      background-color: #3B4455;\n",
              "      fill: #D2E3FC;\n",
              "    }\n",
              "\n",
              "    [theme=dark] .colab-df-convert:hover {\n",
              "      background-color: #434B5C;\n",
              "      box-shadow: 0px 1px 3px 1px rgba(0, 0, 0, 0.15);\n",
              "      filter: drop-shadow(0px 1px 2px rgba(0, 0, 0, 0.3));\n",
              "      fill: #FFFFFF;\n",
              "    }\n",
              "  </style>\n",
              "\n",
              "      <script>\n",
              "        const buttonEl =\n",
              "          document.querySelector('#df-4c8016ef-ae13-4200-adb2-810f1278d5c1 button.colab-df-convert');\n",
              "        buttonEl.style.display =\n",
              "          google.colab.kernel.accessAllowed ? 'block' : 'none';\n",
              "\n",
              "        async function convertToInteractive(key) {\n",
              "          const element = document.querySelector('#df-4c8016ef-ae13-4200-adb2-810f1278d5c1');\n",
              "          const dataTable =\n",
              "            await google.colab.kernel.invokeFunction('convertToInteractive',\n",
              "                                                     [key], {});\n",
              "          if (!dataTable) return;\n",
              "\n",
              "          const docLinkHtml = 'Like what you see? Visit the ' +\n",
              "            '<a target=\"_blank\" href=https://colab.research.google.com/notebooks/data_table.ipynb>data table notebook</a>'\n",
              "            + ' to learn more about interactive tables.';\n",
              "          element.innerHTML = '';\n",
              "          dataTable['output_type'] = 'display_data';\n",
              "          await google.colab.output.renderOutput(dataTable, element);\n",
              "          const docLink = document.createElement('div');\n",
              "          docLink.innerHTML = docLinkHtml;\n",
              "          element.appendChild(docLink);\n",
              "        }\n",
              "      </script>\n",
              "    </div>\n",
              "  </div>\n",
              "  "
            ]
          },
          "metadata": {},
          "execution_count": 4
        }
      ],
      "source": [
        "df.describe()"
      ]
    },
    {
      "cell_type": "markdown",
      "source": [
        "## Statistical tests\n"
      ],
      "metadata": {
        "id": "IelEWh-2M9GH"
      }
    },
    {
      "cell_type": "markdown",
      "source": [
        "plot dataset"
      ],
      "metadata": {
        "id": "n2MudwnS7nUT"
      }
    },
    {
      "cell_type": "code",
      "source": [
        "plt.figure(figsize=(10,5))\n",
        "plt.plot(df)\n",
        "plt.show()"
      ],
      "metadata": {
        "colab": {
          "base_uri": "https://localhost:8080/",
          "height": 320
        },
        "id": "SB6hQK5r7j-k",
        "outputId": "91d431c4-7eaa-4c6b-ec08-7038f2fa92fd"
      },
      "execution_count": null,
      "outputs": [
        {
          "output_type": "display_data",
          "data": {
            "text/plain": [
              "<Figure size 720x360 with 1 Axes>"
            ],
            "image/png": "[encoded data removed]"
          },
          "metadata": {
            "needs_background": "light"
          }
        }
      ]
    },
    {
      "cell_type": "markdown",
      "metadata": {
        "id": "UO4cNERBemqL"
      },
      "source": [
        "Histogram plot."
      ]
    },
    {
      "cell_type": "code",
      "execution_count": null,
      "metadata": {
        "colab": {
          "base_uri": "https://localhost:8080/",
          "height": 281
        },
        "id": "nriHRVYtX1_Z",
        "outputId": "6d83828a-ae14-4081-f02a-84e53cb80c37"
      },
      "outputs": [
        {
          "output_type": "display_data",
          "data": {
            "text/plain": [
              "<Figure size 432x288 with 1 Axes>"
            ],
            "image/png": "[encoded data removed]"
          },
          "metadata": {
            "needs_background": "light"
          }
        }
      ],
      "source": [
        "df.hist()\n",
        "plt.show()"
      ]
    },
    {
      "cell_type": "markdown",
      "metadata": {
        "id": "-pFZA13zeCFh"
      },
      "source": [
        "calculate mean and variance in parts of data, to undrestand that our mean\n",
        "or variance in our data is alike or not.\n",
        "\n",
        "in this data we have the same mean and variance,So it looks stationary.\n",
        "\n"
      ]
    },
    {
      "cell_type": "code",
      "execution_count": null,
      "metadata": {
        "colab": {
          "base_uri": "https://localhost:8080/"
        },
        "id": "MUCl-bnXaG8j",
        "outputId": "5582d867-538b-4fe2-f92e-a7e4df9a3d7f"
      },
      "outputs": [
        {
          "output_type": "stream",
          "name": "stdout",
          "text": [
            "mean1=96.890504, mean2=96.384444\n",
            "var1=33.904997, var2=30.619018\n"
          ]
        }
      ],
      "source": [
        "x = df.values\n",
        "split = round(len(x)/2)\n",
        "x1, x2 = x[:split], x[split:]\n",
        "mean1, mean2 = x1.mean(), x2.mean()\n",
        "var1, var2 = x1.var(), x2.var()\n",
        "print(\"mean1=%f, mean2=%f\" % (mean1,mean2))\n",
        "print(\"var1=%f, var2=%f\" % (var1,var2))"
      ]
    },
    {
      "cell_type": "markdown",
      "metadata": {
        "id": "e1CCecACgGX-"
      },
      "source": [
        "Dickey-Fuller test\n",
        "\n",
        "We interpret this result using the p-value from the test. If the p_value is more significant than 0.05, this test fails. And if the p_value is less than 0.05, the test is successful, and our data is stationary."
      ]
    },
    {
      "cell_type": "code",
      "execution_count": null,
      "metadata": {
        "colab": {
          "base_uri": "https://localhost:8080/"
        },
        "id": "y3kmTs_8fQYe",
        "outputId": "1ba33fc7-0b04-4788-deca-3533d91a87f6"
      },
      "outputs": [
        {
          "output_type": "stream",
          "name": "stdout",
          "text": [
            "ADF Statistic: -7.455368\n",
            "p-value: 0.000000\n",
            "Critical Values:\n",
            "\t1%: -3.434\n",
            "\t5%: -2.863\n",
            "\t10%: -2.568\n"
          ]
        }
      ],
      "source": [
        "x = df.values\n",
        "x = x.reshape((1800))\n",
        "result = adfuller(x)\n",
        "print('ADF Statistic: %f' % result[0])\n",
        "print('p-value: %f' % result[1])\n",
        "print('Critical Values:')\n",
        "for key, value in result[4].items():\n",
        "\tprint('\\t%s: %.3f' % (key, value))"
      ]
    },
    {
      "cell_type": "markdown",
      "metadata": {
        "id": "2gpnLfyamNrx"
      },
      "source": [
        "## Scale and supervised data"
      ]
    },
    {
      "cell_type": "code",
      "execution_count": null,
      "metadata": {
        "id": "bD1GTdp3epcI"
      },
      "outputs": [],
      "source": [
        "# scale our data between [-1, 1]\n",
        "s = MinMaxScaler(feature_range=(-1,1))\n",
        "df = s.fit_transform(df[[0]])"
      ]
    },
    {
      "cell_type": "code",
      "execution_count": null,
      "metadata": {
        "id": "3pVllUqYplIb"
      },
      "outputs": [],
      "source": [
        "# convert list of minutes into inputs and outputs,input \n",
        "# n_input, outputs:number of time steps returns the data in \n",
        "# the overlapping moving window format(3 minutes, 5minutes)\n",
        "\n",
        "def to_supervised(data, n_input, n_out):\n",
        "\tX, y = list(), list()\n",
        "\tin_start = 0\n",
        "\tfor _ in range(len(data)):\n",
        "\t\tin_end = in_start + n_input\n",
        "\t\tout_end = in_end + n_out\n",
        "\t\tif out_end <= len(data):\n",
        "\t\t\tx_input = data[in_start:in_end, 0]\n",
        "\t\t\tx_input = x_input.reshape((len(x_input), 1))\n",
        "\t\t\tX.append(x_input)\n",
        "\t\t\ty.append(data[in_end:out_end, 0])\n",
        "\t\t# move along one time step\n",
        "\t\tin_start += 1\n",
        "\treturn np.array(X),np.array(y)"
      ]
    },
    {
      "cell_type": "code",
      "execution_count": null,
      "metadata": {
        "id": "S5oyJqzF4Mie"
      },
      "outputs": [],
      "source": [
        "# split a univariate dataset into train/test sets\n",
        "def split_dataset(data,n_input,n_out,percent):\n",
        "\t# supervised dataset\n",
        "\tx, y = to_supervised(data,n_input,n_out)\n",
        "  # split dataset into train and test\n",
        "\tn = int(len(x)*percent)\n",
        "\ttrain = [x[:n,:], y[:n]]\n",
        "\ttest = [x[n:,:], y[n:]]\n",
        "\treturn train, test"
      ]
    },
    {
      "cell_type": "markdown",
      "metadata": {
        "id": "zV4Siaod18rp"
      },
      "source": [
        "# Build model"
      ]
    },
    {
      "cell_type": "code",
      "execution_count": null,
      "metadata": {
        "id": "949EWWQWq6zI"
      },
      "outputs": [],
      "source": [
        "# build model function \n",
        "# number of neurons is in range (10, 500)\n",
        "# and dropout value is in range (0.1, 0.9)\n",
        "\n",
        "def build_model(hp):  #prepare model for tuner\n",
        "\tn_timesteps, n_features, n_out = 360, 1, 600\n",
        "\t# define model\n",
        "\tmodel = Sequential()\n",
        "\t\n",
        "\tmodel.add(Bidirectional(LSTM(\n",
        "\t\t\tunits=hp.Int(\"BILSTM1 units\",min_value=10, max_value=500,step=16), \n",
        "\t\t\t# return_sequences=True\n",
        "\t\t\t)\n",
        "\t\t\t,input_shape=(n_timesteps, n_features)))\n",
        " \n",
        "\tmodel.add(Dropout(\n",
        "\t\t\trate=hp.Float(\"dropout1\",min_value=0.1,max_value=0.9,step=0.1)\n",
        "\t ))\n",
        " \n",
        "\t# model.add(Bidirectional(LSTM(\n",
        "\t# \t\tunits=hp.Int(\"BILSTM2 units\",min_value=10,max_value=500,step=16),\n",
        "\t# \t\treturn_sequences=True\n",
        "\t#  )))\n",
        "\t# model.add(Dropout(\n",
        "\t# \t\trate=hp.Float(\"dropout2\",min_value=0.1,max_value=0.9,step=0.1)\n",
        "\t# ))\n",
        "\n",
        "\t# model.add(Bidirectional(LSTM(\n",
        "\t# \t\tunits=hp.Int(\"BILSTM3 units\",min_value=10,max_value=500,step=16),\n",
        "\t#  )))\n",
        "\t# model.add(Dropout(\n",
        "\t# \t\trate=hp.Float(\"dropout3\",min_value=0.1,max_value=0.9,step=0.1)\n",
        "\t# ))\n",
        "\n",
        "\tmodel.add(Dense(n_out, activation=\"relu\"))\n",
        "\tmodel.compile(loss='mse', optimizer='adam',metrics=['accuracy',RootMeanSquaredError()])\n",
        "\treturn model"
      ]
    },
    {
      "cell_type": "markdown",
      "source": [
        "Tune parameters and build model model with theme."
      ],
      "metadata": {
        "id": "Wqv_aSfs-J_R"
      }
    },
    {
      "cell_type": "code",
      "execution_count": null,
      "metadata": {
        "id": "uXtX0hlD2XiZ"
      },
      "outputs": [],
      "source": [
        "# find the best parameters and build model with theme\n",
        "# print scores and save results.\n",
        "def tune(train,test,name,dir):  \n",
        "  #prepare data\n",
        "  x_train, y_train = train[0], train[1]\n",
        "  x_test, y_test = test[0], test[1]\n",
        "  project_name, directory = name , dir\n",
        "  \n",
        "  #define parameters\n",
        "  verbose, epochs, batch_size = 0, 5, 16\n",
        "  n_timesteps, n_features, n_outputs = x_train.shape[1], x_train.shape[2], y_train.shape[1]\n",
        "\n",
        "  #configure tuner\n",
        "  tuner = kt.RandomSearch(\n",
        "    hypermodel=build_model,\n",
        "    objective=\"val_accuracy\",\n",
        "    max_trials=3,\n",
        "    executions_per_trial=2,\n",
        "    overwrite=True,\n",
        "    directory=directory,\n",
        "    project_name=project_name\n",
        "\t)\n",
        "  \n",
        "  #search for best parameters\n",
        "  tuner.search(x_train, y_train, epochs=epochs, validation_data=(x_test, y_test))\n",
        "\n",
        "  #build best model\n",
        "  models = tuner.get_best_models(num_models=2)\n",
        "  best_model = models[0]\n",
        "  best_model.build(input_shape=(n_timesteps, n_features))\n",
        "\n",
        "  #summery results\n",
        "  best_model.summary()\n",
        "  tuner.results_summary()\n",
        "\n",
        "  return best_model"
      ]
    },
    {
      "cell_type": "markdown",
      "metadata": {
        "id": "FdITtcic4mHm"
      },
      "source": [
        "# Evaluation"
      ]
    },
    {
      "cell_type": "code",
      "execution_count": null,
      "metadata": {
        "id": "4cm4cN1TExew"
      },
      "outputs": [],
      "source": [
        "# evaluate a single model\n",
        "def evaluate_model(train, test,name,dir):\n",
        "\t# compile model\n",
        "\tbuild_model(kt.HyperParameters())\n",
        "  \n",
        "\t# tune and fit model\n",
        "\tmodel = tune(train,test,name,dir)\n",
        "\n",
        "\t# predict test set\n",
        "\tpredict = model.predict(test[0])\n",
        "\txtest = test[0].reshape((test[0].shape[0],test[0].shape[1]))\n",
        "\tpredictions = predict\n",
        "\tobservation = test[1]\n",
        "\t\n",
        "  #calculate rmse and scores\n",
        "\tscore, scores = rmse(observation,predictions)\n",
        "\treturn predict,score, scores"
      ]
    },
    {
      "cell_type": "code",
      "execution_count": null,
      "metadata": {
        "id": "3WErCdHcErHM"
      },
      "outputs": [],
      "source": [
        "#calculate rmse for every single prediction\n",
        "#and calculate rmse overall\n",
        "def rmse(actual, predicted):\n",
        "\tscores = list()\n",
        "\t# calculate an RMSE score for each day\n",
        "\tfor i in range(len(actual)):\n",
        "\t\t# calculate rmse\n",
        "\t\tmse = mean_squared_error(actual[i], predicted[i])\n",
        "\t\trmse = math.sqrt(mse)\n",
        "\n",
        "\t\tscores.append(rmse)\n",
        "\t# calculate overall RMSE\t\n",
        "\ts = 0\n",
        "\tfor row in range(actual.shape[0]):\n",
        "\t\tfor col in range(actual.shape[1]):\n",
        "\t\t\ts += (actual[row, col] - predicted[row, col])**2\n",
        "\tscore = math.sqrt(s / (actual.shape[0] * actual.shape[1]))\n",
        "\treturn score, scores"
      ]
    },
    {
      "cell_type": "markdown",
      "metadata": {
        "id": "Xo7y0_kK1jSa"
      },
      "source": [
        "#RUN and report results"
      ]
    },
    {
      "cell_type": "code",
      "execution_count": null,
      "metadata": {
        "colab": {
          "base_uri": "https://localhost:8080/"
        },
        "id": "dgUOqyr1s-1y",
        "outputId": "16b71cf6-3226-45e0-d02a-c6f4c0bd2da3"
      },
      "outputs": [
        {
          "output_type": "stream",
          "name": "stdout",
          "text": [
            "Trial 3 Complete [00h 00m 44s]\n",
            "val_accuracy: 0.0\n",
            "\n",
            "Best val_accuracy So Far: 0.0\n",
            "Total elapsed time: 00h 02m 54s\n",
            "INFO:tensorflow:Oracle triggered exit\n",
            "Model: \"sequential\"\n",
            "_________________________________________________________________\n",
            " Layer (type)                Output Shape              Param #   \n",
            "=================================================================\n",
            " bidirectional (Bidirectiona  (None, 308)              192192    \n",
            " l)                                                              \n",
            "                                                                 \n",
            " dropout (Dropout)           (None, 308)               0         \n",
            "                                                                 \n",
            " dense (Dense)               (None, 600)               185400    \n",
            "                                                                 \n",
            "=================================================================\n",
            "Total params: 377,592\n",
            "Trainable params: 377,592\n",
            "Non-trainable params: 0\n",
            "_________________________________________________________________\n",
            "Results summary\n",
            "Results in /content/BI-LSTM(1 layer)\n",
            "Showing 10 best trials\n",
            "<keras_tuner.engine.objective.Objective object at 0x7fedbcf31b90>\n",
            "Trial summary\n",
            "Hyperparameters:\n",
            "BILSTM1 units: 154\n",
            "dropout1: 0.30000000000000004\n",
            "Score: 0.0\n",
            "Trial summary\n",
            "Hyperparameters:\n",
            "BILSTM1 units: 442\n",
            "dropout1: 0.7000000000000001\n",
            "Score: 0.0\n",
            "Trial summary\n",
            "Hyperparameters:\n",
            "BILSTM1 units: 154\n",
            "dropout1: 0.6\n",
            "Score: 0.0\n",
            "WARNING:tensorflow:Detecting that an object or model or tf.train.Checkpoint is being deleted with unrestored values. See the following logs for the specific values in question. To silence these warnings, use `status.expect_partial()`. See https://www.tensorflow.org/api_docs/python/tf/train/Checkpoint#restorefor details about the status object returned by the restore function.\n",
            "WARNING:tensorflow:Value in checkpoint could not be found in the restored object: (root).optimizer.iter\n",
            "WARNING:tensorflow:Value in checkpoint could not be found in the restored object: (root).optimizer.beta_1\n",
            "WARNING:tensorflow:Value in checkpoint could not be found in the restored object: (root).optimizer.beta_2\n",
            "WARNING:tensorflow:Value in checkpoint could not be found in the restored object: (root).optimizer.decay\n",
            "WARNING:tensorflow:Value in checkpoint could not be found in the restored object: (root).optimizer.learning_rate\n",
            "running time : 3.00 min\n",
            "BI-LSTM(1 layer) RMSE : [0.452]\n"
          ]
        }
      ],
      "source": [
        "n_input = 360\n",
        "n_out = 600\n",
        "name = \"BI-LSTM(1 layer)\"\n",
        "dir = \"/content\"\n",
        "# split into train and test\n",
        "train ,test = split_dataset(df,n_input,n_out,0.7)\n",
        "\n",
        "# evaluate model\n",
        "t1 = time.time()\n",
        "predict, score, scores = evaluate_model(train, test ,name ,dir)\n",
        "t2 = time.time()\n",
        "#print score\n",
        "print('running time : %.2f min'%((t2-t1)/60))\n",
        "print('%s RMSE : [%.3f]' %(name, score))"
      ]
    },
    {
      "cell_type": "markdown",
      "metadata": {
        "id": "A_GZ6gRv_Wkr"
      },
      "source": [
        "#Report results"
      ]
    },
    {
      "cell_type": "markdown",
      "metadata": {
        "id": "NLwu-MNcy1FG"
      },
      "source": [
        "##RNN Report\n",
        "\n",
        "\n",
        "```\n",
        "  No. of layers  |   No. of neurons   |     Dropout     |   RMSE\n",
        "        1        |        410         |       0.5       |   0.506\n",
        "        2        |     [394,346]      |    [0.7,0.2]    |   0.515\n",
        "        3        |    [362,90,138]    |  [0.4,0.2,0.5]  |   0.510\n",
        "```\n",
        "\n"
      ]
    },
    {
      "cell_type": "markdown",
      "metadata": {
        "id": "63ebp3hlA2df"
      },
      "source": [
        "\n",
        "\n",
        "```\n",
        "def build_model(hp):  #prepare model for tuner\n",
        "\tn_timesteps, n_features, n_out = 360, 1, 600\n",
        "\t# define model\n",
        "\tmodel = Sequential()\n",
        "\t\n",
        "\tmodel.add(SimpleRNN(\n",
        "\t\t\tunits=hp.Int(\"RNN1 units\",min_value=10, max_value=500,step=16), \n",
        "\t\t\tinput_shape=(n_timesteps, n_features),\n",
        "\t\t\treturn_sequences=True\n",
        "\t\t))\n",
        "\tmodel.add(Dropout(\n",
        "\t\t\trate=hp.Float(\"dropout1\",min_value=0.1,max_value=0.9,step=0.1)\n",
        "\t ))\n",
        " \n",
        "\tmodel.add(SimpleRNN(\n",
        "\t\t\tunits=hp.Int(\"RNN2 units\",min_value=10,max_value=500,step=16),\n",
        "\t\t\treturn_sequences=True\n",
        "\t ))\n",
        "\tmodel.add(Dropout(\n",
        "\t\t\trate=hp.Float(\"dropout2\",min_value=0.1,max_value=0.9,step=0.1)\n",
        "\t))\n",
        "\n",
        "\tmodel.add(SimpleRNN(\n",
        "\t\t\tunits=hp.Int(\"RNN3 units\",min_value=10,max_value=500,step=16),\n",
        "\t ))\n",
        "\tmodel.add(Dropout(\n",
        "\t\t\trate=hp.Float(\"dropout3\",min_value=0.1,max_value=0.9,step=0.1)\n",
        "\t))\n",
        "\n",
        "\tmodel.add(Dense(n_out, activation=\"relu\"))\n",
        "\tmodel.compile(loss='mse', optimizer='adam',metrics=['accuracy',RootMeanSquaredError()])\n",
        "\treturn model\n",
        "```\n",
        "\n"
      ]
    },
    {
      "cell_type": "markdown",
      "metadata": {
        "id": "mlsrDwMXwl1N"
      },
      "source": [
        "##LSTM Report\n",
        "\n",
        "\n",
        "```\n",
        "  No. of layers  |   No. of neurons   |     Dropout     |   RMSE\n",
        "        1        |         74         |       0.7       |   0.481\n",
        "        2        |      [106,378]     |    [0.7,0.9]    |   0.508\n",
        "        3        |     [282,90,346]   |  [0.5,0.7,0.5]  |   0.438\n",
        "```\n",
        "\n"
      ]
    },
    {
      "cell_type": "markdown",
      "metadata": {
        "id": "Hh5mjE932Q0V"
      },
      "source": [
        "\n",
        "\n",
        "```\n",
        "def build_model(hp):  #prepare model for tuner\n",
        "\tn_timesteps, n_features, n_out = 360, 1, 600\n",
        "\t# define model\n",
        "\tmodel = Sequential()\n",
        "\t\n",
        "\tmodel.add(LSTM(\n",
        "\t\t\tunits=hp.Int(\"lstm1 units\",min_value=10, max_value=500,step=16), \n",
        "\t\t\tinput_shape=(n_timesteps, n_features),\n",
        "\t\t\treturn_sequences=True\n",
        "\t\t))\n",
        "\tmodel.add(Dropout(\n",
        "\t\t\trate=hp.Float(\"dropout1\",min_value=0.1,max_value=0.9,step=0.1)\n",
        "\t ))\n",
        " \n",
        "\tmodel.add(LSTM(\n",
        "\t\t\tunits=hp.Int(\"lstm2 units\",min_value=10,max_value=500,step=16),\n",
        "\t\t\treturn_sequences=True\n",
        "\t ))\n",
        "\tmodel.add(Dropout(\n",
        "\t\t\trate=hp.Float(\"dropout2\",min_value=0.1,max_value=0.9,step=0.1)\n",
        "\t))\n",
        "\n",
        "\tmodel.add(LSTM(\n",
        "\t\t\tunits=hp.Int(\"lstm3 units\",min_value=10,max_value=500,step=16),\n",
        "\t ))\n",
        "\tmodel.add(Dropout(\n",
        "\t\t\trate=hp.Float(\"dropout3\",min_value=0.1,max_value=0.9,step=0.1)\n",
        "\t))\n",
        "\n",
        "\tmodel.add(Dense(n_out, activation=\"relu\"))\n",
        "\tmodel.compile(loss='mse', optimizer='adam',metrics=['accuracy',RootMeanSquaredError()])\n",
        "\treturn model\n",
        "```\n",
        "\n"
      ]
    },
    {
      "cell_type": "markdown",
      "metadata": {
        "id": "Oy3nIolIyxT5"
      },
      "source": [
        "##GRU Report\n",
        "\n",
        "\n",
        "```\n",
        "  No. of layers  |    No. of neurons  |     Dropout     |   RMSE\n",
        "        1        |         122        |       0.7       |   0.482\n",
        "        2        |       [74,58]      |    [0.8,0.4]    |   0.428\n",
        "        3        |     [90,42,490]    |  [0.2,0.6,0.1]  |   0.451\n",
        "```\n",
        "\n"
      ]
    },
    {
      "cell_type": "markdown",
      "metadata": {
        "id": "crhEYpFj3teh"
      },
      "source": [
        "\n",
        "\n",
        "```\n",
        "def build_model(hp):  #prepare model for tuner\n",
        "\tn_timesteps, n_features, n_out = 360, 1, 600\n",
        "\t# define model\n",
        "\tmodel = Sequential()\n",
        "\t\n",
        "\tmodel.add(GRU(\n",
        "\t\t\tunits=hp.Int(\"GRU1 units\",min_value=10, max_value=500,step=16), \n",
        "\t\t\tinput_shape=(n_timesteps, n_features),\n",
        "\t\t\treturn_sequences=True\n",
        "\t\t))\n",
        "\tmodel.add(Dropout(\n",
        "\t\t\trate=hp.Float(\"dropout1\",min_value=0.1,max_value=0.9,step=0.1)\n",
        "\t ))\n",
        " \n",
        "\tmodel.add(GRU(\n",
        "\t\t\tunits=hp.Int(\"GRU2 units\",min_value=10,max_value=500,step=16),\n",
        "\t\t\treturn_sequences=True\n",
        "\t ))\n",
        "\tmodel.add(Dropout(\n",
        "\t\t\trate=hp.Float(\"dropout2\",min_value=0.1,max_value=0.9,step=0.1)\n",
        "\t))\n",
        "\n",
        "\tmodel.add(GRU(\n",
        "\t\t\tunits=hp.Int(\"GRU3 units\",min_value=10,max_value=500,step=16),\n",
        "\t ))\n",
        "\tmodel.add(Dropout(\n",
        "\t\t\trate=hp.Float(\"dropout3\",min_value=0.1,max_value=0.9,step=0.1)\n",
        "\t))\n",
        "\n",
        "\tmodel.add(Dense(n_out, activation=\"relu\"))\n",
        "\tmodel.compile(loss='mse', optimizer='adam',metrics=['accuracy',RootMeanSquaredError()])\n",
        "\treturn model\n",
        "```\n",
        "\n"
      ]
    },
    {
      "cell_type": "markdown",
      "metadata": {
        "id": "J3eF8eQMy5bf"
      },
      "source": [
        "##BI-LSTM Report\n",
        "\n",
        "\n",
        "```\n",
        "  No. of layers  |   No. of neurons   |     Dropout     |   RMSE\n",
        "        1        |         154        |       0.3       |   0.452\n",
        "        2        |       [74,58]      |    [0.8,0.4]    |   0.466\n",
        "        3        |    [346,106,394]   |  [0.2,0.6,0.7]  |   0.501\n",
        "```\n",
        "\n"
      ]
    },
    {
      "cell_type": "markdown",
      "source": [
        "\n",
        "```\n",
        "def build_model(hp):  #prepare model for tuner\n",
        "\tn_timesteps, n_features, n_out = 360, 1, 600\n",
        "\t# define model\n",
        "\tmodel = Sequential()\n",
        "\t\n",
        "\tmodel.add(Bidirectional(LSTM(\n",
        "\t\t\tunits=hp.Int(\"BILSTM1 units\",min_value=10, max_value=500,step=16), \n",
        "\t\t\treturn_sequences=True\n",
        "\t\t\t)\n",
        "\t\t\t,input_shape=(n_timesteps, n_features)))\n",
        " \n",
        "\tmodel.add(Dropout(\n",
        "\t\t\trate=hp.Float(\"dropout1\",min_value=0.1,max_value=0.9,step=0.1)\n",
        "\t ))\n",
        " \n",
        "\tmodel.add(Bidirectional(LSTM(\n",
        "\t\t\tunits=hp.Int(\"BILSTM2 units\",min_value=10,max_value=500,step=16),\n",
        "\t\t\treturn_sequences=True\n",
        "\t )))\n",
        "\tmodel.add(Dropout(\n",
        "\t\t\trate=hp.Float(\"dropout2\",min_value=0.1,max_value=0.9,step=0.1)\n",
        "\t))\n",
        "\n",
        "\tmodel.add(Bidirectional(LSTM(\n",
        "\t\t\tunits=hp.Int(\"BILSTM3 units\",min_value=10,max_value=500,step=16),\n",
        "\t )))\n",
        "\tmodel.add(Dropout(\n",
        "\t\t\trate=hp.Float(\"dropout3\",min_value=0.1,max_value=0.9,step=0.1)\n",
        "\t))\n",
        "\n",
        "\tmodel.add(Dense(n_out, activation=\"relu\"))\n",
        "\tmodel.compile(loss='mse', optimizer='adam',metrics=['accuracy',RootMeanSquaredError()])\n",
        "\treturn model\n",
        "```\n",
        "\n"
      ],
      "metadata": {
        "id": "I-awquZSeOVj"
      }
    }
  ],
  "metadata": {
    "accelerator": "GPU",
    "colab": {
      "collapsed_sections": [],
      "name": "Heart_Rate_Final.ipynb",
      "provenance": []
    },
    "kernelspec": {
      "display_name": "Python 3",
      "name": "python3"
    },
    "language_info": {
      "name": "python"
    }
  },
  "nbformat": 4,
  "nbformat_minor": 0
}